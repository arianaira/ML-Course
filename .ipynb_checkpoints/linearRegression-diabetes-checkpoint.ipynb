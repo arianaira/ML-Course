{
 "cells": [
  {
   "cell_type": "code",
   "execution_count": 35,
   "id": "e9ccbc63",
   "metadata": {},
   "outputs": [],
   "source": [
    "from sklearn.datasets import *\n",
    "import matplotlib.pyplot as plt\n",
    "import pandas as pd\n",
    "import seaborn as sns\n",
    "import numpy as np"
   ]
  },
  {
   "cell_type": "code",
   "execution_count": 36,
   "id": "9a8fc141",
   "metadata": {},
   "outputs": [],
   "source": [
    "diabetes = load_diabetes()"
   ]
  },
  {
   "cell_type": "code",
   "execution_count": 37,
   "id": "28e84a3f",
   "metadata": {},
   "outputs": [
    {
     "data": {
      "text/plain": [
       "dict_keys(['data', 'target', 'frame', 'DESCR', 'feature_names', 'data_filename', 'target_filename', 'data_module'])"
      ]
     },
     "execution_count": 37,
     "metadata": {},
     "output_type": "execute_result"
    }
   ],
   "source": [
    "diabetes.keys()"
   ]
  },
  {
   "cell_type": "code",
   "execution_count": 38,
   "id": "ed8defe7",
   "metadata": {},
   "outputs": [
    {
     "data": {
      "text/plain": [
       "['age', 'sex', 'bmi', 'bp', 's1', 's2', 's3', 's4', 's5', 's6']"
      ]
     },
     "execution_count": 38,
     "metadata": {},
     "output_type": "execute_result"
    }
   ],
   "source": [
    "diabetes.feature_names"
   ]
  },
  {
   "cell_type": "code",
   "execution_count": 39,
   "id": "99c337ea",
   "metadata": {},
   "outputs": [
    {
     "data": {
      "text/plain": [
       "(442, 10)"
      ]
     },
     "execution_count": 39,
     "metadata": {},
     "output_type": "execute_result"
    }
   ],
   "source": [
    "diabetes.data.shape"
   ]
  },
  {
   "cell_type": "code",
   "execution_count": 41,
   "id": "40b7d318",
   "metadata": {},
   "outputs": [
    {
     "ename": "IndexError",
     "evalue": "only integers, slices (`:`), ellipsis (`...`), numpy.newaxis (`None`) and integer or boolean arrays are valid indices",
     "output_type": "error",
     "traceback": [
      "\u001b[1;31m---------------------------------------------------------------------------\u001b[0m",
      "\u001b[1;31mIndexError\u001b[0m                                Traceback (most recent call last)",
      "\u001b[1;32m~\\AppData\\Local\\Temp\\ipykernel_8776\\1237029528.py\u001b[0m in \u001b[0;36m<module>\u001b[1;34m\u001b[0m\n\u001b[0;32m      6\u001b[0m         \u001b[0mn\u001b[0m \u001b[1;33m=\u001b[0m \u001b[0mj\u001b[0m \u001b[1;33m+\u001b[0m \u001b[0mi\u001b[0m \u001b[1;33m*\u001b[0m \u001b[1;36m3\u001b[0m\u001b[1;33m\u001b[0m\u001b[1;33m\u001b[0m\u001b[0m\n\u001b[0;32m      7\u001b[0m         \u001b[0mfeature\u001b[0m \u001b[1;33m=\u001b[0m \u001b[0mfeatures\u001b[0m\u001b[1;33m[\u001b[0m\u001b[0mn\u001b[0m\u001b[1;33m]\u001b[0m\u001b[1;33m\u001b[0m\u001b[1;33m\u001b[0m\u001b[0m\n\u001b[1;32m----> 8\u001b[1;33m         \u001b[0maxs\u001b[0m\u001b[1;33m[\u001b[0m\u001b[0mi\u001b[0m\u001b[1;33m,\u001b[0m \u001b[0mj\u001b[0m\u001b[1;33m]\u001b[0m\u001b[1;33m.\u001b[0m\u001b[0mscatter\u001b[0m\u001b[1;33m(\u001b[0m\u001b[0mdiabetes\u001b[0m\u001b[1;33m[\u001b[0m\u001b[1;34m'data'\u001b[0m\u001b[1;33m]\u001b[0m\u001b[1;33m[\u001b[0m\u001b[0mfeature\u001b[0m\u001b[1;33m]\u001b[0m\u001b[1;33m,\u001b[0m \u001b[0mdiabetes\u001b[0m\u001b[1;33m[\u001b[0m\u001b[1;34m'target'\u001b[0m\u001b[1;33m]\u001b[0m\u001b[1;33m,\u001b[0m \u001b[0ms\u001b[0m\u001b[1;33m=\u001b[0m\u001b[1;36m1\u001b[0m\u001b[1;33m)\u001b[0m\u001b[1;33m\u001b[0m\u001b[1;33m\u001b[0m\u001b[0m\n\u001b[0m\u001b[0;32m      9\u001b[0m         \u001b[0maxs\u001b[0m\u001b[1;33m[\u001b[0m\u001b[0mi\u001b[0m\u001b[1;33m,\u001b[0m \u001b[0mj\u001b[0m\u001b[1;33m]\u001b[0m\u001b[1;33m.\u001b[0m\u001b[0mset_xlabel\u001b[0m\u001b[1;33m(\u001b[0m\u001b[0mfeature\u001b[0m\u001b[1;33m)\u001b[0m\u001b[1;33m\u001b[0m\u001b[1;33m\u001b[0m\u001b[0m\n\u001b[0;32m     10\u001b[0m         \u001b[0maxs\u001b[0m\u001b[1;33m[\u001b[0m\u001b[0mi\u001b[0m\u001b[1;33m,\u001b[0m \u001b[0mj\u001b[0m\u001b[1;33m]\u001b[0m\u001b[1;33m.\u001b[0m\u001b[0mset_ylabel\u001b[0m\u001b[1;33m(\u001b[0m\u001b[1;34m'target'\u001b[0m\u001b[1;33m)\u001b[0m\u001b[1;33m\u001b[0m\u001b[1;33m\u001b[0m\u001b[0m\n",
      "\u001b[1;31mIndexError\u001b[0m: only integers, slices (`:`), ellipsis (`...`), numpy.newaxis (`None`) and integer or boolean arrays are valid indices"
     ]
    },
    {
     "data": {
      "image/png": "[encoded data removed]",
      "text/plain": [
       "<Figure size 640x480 with 9 Axes>"
      ]
     },
     "metadata": {},
     "output_type": "display_data"
    }
   ],
   "source": [
    "features = diabetes['feature_names']\n",
    "fig, axs = plt.subplots(3, 3)\n",
    "fig.suptitle('Diabetes Dataset')\n",
    "for i in range(3):\n",
    "    for j in range(3):\n",
    "        n = j + i * 3\n",
    "        feature = features[n]\n",
    "        axs[i, j].scatter(diabetes['data'][feature], diabetes['target'], s=1)\n",
    "        axs[i, j].set_xlabel(feature)\n",
    "        axs[i, j].set_ylabel('target')\n",
    "plt.tight_layout()\n",
    "plt.show()"
   ]
  },
  {
   "cell_type": "code",
   "execution_count": 10,
   "id": "3b89aee0",
   "metadata": {},
   "outputs": [],
   "source": [
    "def fit(X, y, lr=0.1, bias=0):\n",
    "    samples, features = X.shape\n",
    "    weights = np.zeros(features)\n",
    "    weights, bias = gradient_descent(X, y, weights, samples)\n",
    "    return weights, bias"
   ]
  },
  {
   "cell_type": "code",
   "execution_count": 11,
   "id": "f5f9e970",
   "metadata": {},
   "outputs": [],
   "source": [
    "def gradient_descent(X, y, weights, samples, lr=0.1, bias=0):\n",
    "    \n",
    "    for i in range(1000):\n",
    "        y_predict = np.dot(X, weights) + bias\n",
    "        \n",
    "        weights = weights - (lr * 1 / samples * np.dot(X.T, (y_predict - y)))\n",
    "        bias = bias - (lr * 1 / samples * np.sum(y_predict - y))\n",
    "    return weights, bias"
   ]
  },
  {
   "cell_type": "code",
   "execution_count": 12,
   "id": "44eb5404",
   "metadata": {},
   "outputs": [],
   "source": [
    "def predict(X_test, weights, bias):\n",
    "    return np.dot(X_test, weights) + bias"
   ]
  },
  {
   "cell_type": "code",
   "execution_count": 13,
   "id": "d053c4f7",
   "metadata": {},
   "outputs": [],
   "source": [
    "def calc_mae(y_pred, y):\n",
    "    return np.mean(np.abs(y_pred - y)) "
   ]
  },
  {
   "cell_type": "code",
   "execution_count": 14,
   "id": "92650175",
   "metadata": {},
   "outputs": [
    {
     "data": {
      "text/plain": [
       "array([[ 0.03807591,  0.05068012,  0.06169621, ..., -0.00259226,\n",
       "         0.01990842, -0.01764613],\n",
       "       [-0.00188202, -0.04464164, -0.05147406, ..., -0.03949338,\n",
       "        -0.06832974, -0.09220405],\n",
       "       [ 0.08529891,  0.05068012,  0.04445121, ..., -0.00259226,\n",
       "         0.00286377, -0.02593034],\n",
       "       ...,\n",
       "       [ 0.04170844,  0.05068012, -0.01590626, ..., -0.01107952,\n",
       "        -0.04687948,  0.01549073],\n",
       "       [-0.04547248, -0.04464164,  0.03906215, ...,  0.02655962,\n",
       "         0.04452837, -0.02593034],\n",
       "       [-0.04547248, -0.04464164, -0.0730303 , ..., -0.03949338,\n",
       "        -0.00421986,  0.00306441]])"
      ]
     },
     "execution_count": 14,
     "metadata": {},
     "output_type": "execute_result"
    }
   ],
   "source": [
    "X, y = load_diabetes(return_X_y=True)\n",
    "X"
   ]
  },
  {
   "cell_type": "code",
   "execution_count": 15,
   "id": "f4d054c1",
   "metadata": {
    "scrolled": true
   },
   "outputs": [],
   "source": [
    "# fig = plt.figure(figsize=(8,6))\n",
    "# plt.scatter(X[:, 2], y, color = \"g\", marker = \"o\", s = 30)\n",
    "# plt.show()"
   ]
  },
  {
   "cell_type": "code",
   "execution_count": 16,
   "id": "4e2a14a6",
   "metadata": {},
   "outputs": [],
   "source": [
    "# from sklearn.model_selection import train_test_split\n",
    "# X_train, X_test, y_train, y_test = train_test_split(X[:,2], y, test_size=0.2, random_state=1234)\n",
    "# weights, bias = fit(X_train, y_train)\n",
    "# y_pred = predict(X_test, weights, bias)\n",
    "# y_pred_line = predict(X, weights, bias)\n",
    "# cmap = plt.get_cmap('viridis')\n",
    "# fig = plt.figure(figsize=(8,6))\n",
    "# m1 = plt.scatter(X_train, y_train, color=cmap(0.9), s=10)\n",
    "# m2 = plt.scatter(X_test, y_test, color=cmap(0.5), s=10)\n",
    "# plt.plot(X[:, 2], y_pred_line, color='black', linewidth=2, label='Prediction')\n",
    "# plt.show()"
   ]
  },
  {
   "cell_type": "code",
   "execution_count": 17,
   "id": "c0d61fc1",
   "metadata": {},
   "outputs": [
    {
     "data": {
      "text/plain": [
       "(353, 10)"
      ]
     },
     "execution_count": 17,
     "metadata": {},
     "output_type": "execute_result"
    }
   ],
   "source": [
    "# X_train = X[:-20]\n",
    "# X_test = X[-20:]\n",
    "\n",
    "# y_train = y[:-20]\n",
    "# y_test = y[-20:]\n",
    "from sklearn.model_selection import train_test_split\n",
    "X_train, X_test, y_train, y_test = train_test_split(X, y, test_size=0.2, random_state=1234)\n",
    "X_train.shape"
   ]
  },
  {
   "cell_type": "code",
   "execution_count": 18,
   "id": "6458e4c0",
   "metadata": {},
   "outputs": [
    {
     "name": "stdout",
     "output_type": "stream",
     "text": [
      "weights: [  33.61973393  -17.57183618  163.35904663  117.87025983   38.18016908\n",
      "   27.05890729 -106.18984168  106.07650772  147.71724118   96.49710572] bias: 152.7863783575932\n"
     ]
    }
   ],
   "source": [
    "weights, bias = fit(X_train, y_train)\n",
    "print('weights:', weights, 'bias:', bias)"
   ]
  },
  {
   "cell_type": "code",
   "execution_count": 19,
   "id": "5800b1d1",
   "metadata": {},
   "outputs": [
    {
     "data": {
      "text/plain": [
       "array([164.30919347, 156.56686464, 120.48862892, 109.46566661,\n",
       "       123.45355524, 156.82285921, 174.60088226, 134.00879588,\n",
       "       135.57763405, 159.92615992, 115.84255435, 186.062024  ,\n",
       "       151.5539744 , 157.65974109, 144.99223338, 161.4809433 ,\n",
       "       132.10286756, 133.74501814, 210.55671715, 159.06242949,\n",
       "       162.43639017, 137.14406638, 133.18310662, 197.52480643,\n",
       "       179.29404957, 190.62283996, 118.59677225, 208.9889989 ,\n",
       "       166.24564381, 101.66342344, 129.13503087, 141.66362826,\n",
       "       130.96856651, 130.57637526, 155.59692456, 201.80535525,\n",
       "       197.2460694 , 105.8791737 , 174.95923451, 120.04601892,\n",
       "       157.4466213 , 135.47562892, 177.53277159, 139.39403121,\n",
       "       167.55701253, 139.82215572, 131.13829835, 172.73265418,\n",
       "       129.62849026, 159.69667793, 144.34427292, 157.58675312,\n",
       "       173.52478984, 147.29180591, 135.16291015, 156.53336381,\n",
       "       183.76691443, 151.72410047, 196.11297562, 145.8499118 ,\n",
       "       112.36761477, 183.64543146, 171.73737929, 151.04429124,\n",
       "       166.5138622 , 204.43191201, 173.35812231, 170.56363552,\n",
       "       166.27472919, 182.18129046, 106.22895623, 161.91032274,\n",
       "       176.87629804, 128.91204465, 168.77376649, 181.95979906,\n",
       "       133.10144251, 169.56830254, 169.62893589, 187.28050044,\n",
       "       160.92765676, 108.32071078, 140.90376638, 162.7649457 ,\n",
       "       125.17959532, 116.51509402, 184.30012286, 122.64352526,\n",
       "       195.59609539])"
      ]
     },
     "execution_count": 19,
     "metadata": {},
     "output_type": "execute_result"
    }
   ],
   "source": [
    "y_pred = predict(X_test, weights, bias)\n",
    "y_pred"
   ]
  },
  {
   "cell_type": "code",
   "execution_count": 20,
   "id": "94ef042e",
   "metadata": {},
   "outputs": [
    {
     "data": {
      "text/plain": [
       "51.70283861510915"
      ]
     },
     "execution_count": 20,
     "metadata": {},
     "output_type": "execute_result"
    }
   ],
   "source": [
    "calc_mae(y_pred, y_test)"
   ]
  },
  {
   "cell_type": "code",
   "execution_count": 21,
   "id": "ee15451c",
   "metadata": {},
   "outputs": [],
   "source": [
    "from sklearn.linear_model import LinearRegression"
   ]
  },
  {
   "cell_type": "code",
   "execution_count": 22,
   "id": "6932cf3d",
   "metadata": {},
   "outputs": [
    {
     "data": {
      "text/plain": [
       "array([  -43.45526217,  -280.55848553,   528.97893541,   346.50018232,\n",
       "       -1032.32970269,   661.5777617 ,   241.08637357,   240.52992036,\n",
       "         798.26318387,   123.16933708])"
      ]
     },
     "execution_count": 22,
     "metadata": {},
     "output_type": "execute_result"
    }
   ],
   "source": [
    "reg = LinearRegression().fit(X_train, y_train)\n",
    "reg.coef_"
   ]
  },
  {
   "cell_type": "code",
   "execution_count": 23,
   "id": "abf271d2",
   "metadata": {},
   "outputs": [],
   "source": [
    "y_pred_sklearn = reg.predict(X_test)"
   ]
  },
  {
   "cell_type": "code",
   "execution_count": 24,
   "id": "a54efed7",
   "metadata": {},
   "outputs": [],
   "source": [
    "from sklearn.metrics import mean_absolute_error"
   ]
  },
  {
   "cell_type": "code",
   "execution_count": 25,
   "id": "01569fce",
   "metadata": {},
   "outputs": [
    {
     "data": {
      "text/plain": [
       "44.24217816908081"
      ]
     },
     "execution_count": 25,
     "metadata": {},
     "output_type": "execute_result"
    }
   ],
   "source": [
    "mean_absolute_error(y_pred_sklearn, y_test)"
   ]
  },
  {
   "cell_type": "code",
   "execution_count": 26,
   "id": "7e7e4bb8",
   "metadata": {},
   "outputs": [],
   "source": [
    "def norm_equ(X, y):\n",
    "    X_p = np.concatenate((np.ones((353, 1)), X),axis=1)\n",
    "    print(X_p[1])\n",
    "    return np.linalg.inv(X_p.T.dot(X_p)).dot(X_p.T).dot(y)"
   ]
  },
  {
   "cell_type": "code",
   "execution_count": 27,
   "id": "aadb3ec7",
   "metadata": {},
   "outputs": [
    {
     "name": "stdout",
     "output_type": "stream",
     "text": [
      "[ 1.          0.04897352 -0.04464164  0.06061839 -0.02288496 -0.02358421\n",
      " -0.07271173 -0.04340085 -0.00259226  0.10413761  0.03620126]\n"
     ]
    }
   ],
   "source": [
    "theta = norm_equ(X_train, y_train)"
   ]
  },
  {
   "cell_type": "code",
   "execution_count": 28,
   "id": "103b774b",
   "metadata": {},
   "outputs": [
    {
     "data": {
      "text/plain": [
       "array([  153.47966457,   -43.45526217,  -280.55848553,   528.97893541,\n",
       "         346.50018232, -1032.32970269,   661.5777617 ,   241.08637357,\n",
       "         240.52992036,   798.26318387,   123.16933708])"
      ]
     },
     "execution_count": 28,
     "metadata": {},
     "output_type": "execute_result"
    }
   ],
   "source": [
    "theta"
   ]
  },
  {
   "cell_type": "code",
   "execution_count": 29,
   "id": "7ddfc430",
   "metadata": {},
   "outputs": [],
   "source": [
    "y_pred = predict(X_test, theta[1:], theta[0])"
   ]
  },
  {
   "cell_type": "code",
   "execution_count": 30,
   "id": "ba8ca71e",
   "metadata": {},
   "outputs": [
    {
     "data": {
      "text/plain": [
       "44.242178169080816"
      ]
     },
     "execution_count": 30,
     "metadata": {},
     "output_type": "execute_result"
    }
   ],
   "source": [
    "calc_mae(y_pred, y_test)"
   ]
  },
  {
   "cell_type": "code",
   "execution_count": 31,
   "id": "d5662314",
   "metadata": {},
   "outputs": [],
   "source": [
    "def mse(X, y):\n",
    "    return np.mean((y - np.dot(X, np.linalg.lstsq(X, y, rcond=None)[0]))**2)"
   ]
  },
  {
   "cell_type": "code",
   "execution_count": 32,
   "id": "373ce728",
   "metadata": {},
   "outputs": [
    {
     "ename": "SyntaxError",
     "evalue": "invalid syntax (2393532409.py, line 1)",
     "output_type": "error",
     "traceback": [
      "\u001b[1;36m  File \u001b[1;32m\"C:\\Users\\Rina\\AppData\\Local\\Temp\\ipykernel_8776\\2393532409.py\"\u001b[1;36m, line \u001b[1;32m1\u001b[0m\n\u001b[1;33m    def backward_fs(X, 1):\u001b[0m\n\u001b[1;37m                       ^\u001b[0m\n\u001b[1;31mSyntaxError\u001b[0m\u001b[1;31m:\u001b[0m invalid syntax\n"
     ]
    }
   ],
   "source": [
    "def backward_fs(X):\n",
    "    features = X.shape[1]"
   ]
  },
  {
   "cell_type": "code",
   "execution_count": 33,
   "id": "1ddd812f",
   "metadata": {},
   "outputs": [
    {
     "data": {
      "text/plain": [
       "10"
      ]
     },
     "execution_count": 33,
     "metadata": {},
     "output_type": "execute_result"
    }
   ],
   "source": [
    "X.shape[1]"
   ]
  },
  {
   "cell_type": "code",
   "execution_count": null,
   "id": "41f7a74f",
   "metadata": {},
   "outputs": [],
   "source": []
  }
 ],
 "metadata": {
  "kernelspec": {
   "display_name": "Python 3 (ipykernel)",
   "language": "python",
   "name": "python3"
  },
  "language_info": {
   "codemirror_mode": {
    "name": "ipython",
    "version": 3
   },
   "file_extension": ".py",
   "mimetype": "text/x-python",
   "name": "python",
   "nbconvert_exporter": "python",
   "pygments_lexer": "ipython3",
   "version": "3.9.13"
  }
 },
 "nbformat": 4,
 "nbformat_minor": 5
}
