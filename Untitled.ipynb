{
 "cells": [
  {
   "cell_type": "code",
   "execution_count": null,
   "id": "081d6a5f",
   "metadata": {},
   "outputs": [],
   "source": [
    "def backward_fs(X, y, k=3):\n",
    "    features_size = X.shape[1]\n",
    "    selected_features = []\n",
    "    mses = []\n",
    "    for i in range(features_size - k):\n",
    "        temp = X[i]\n",
    "        X = np.delete(X, i)\n",
    "        \n",
    "        \n",
    "    "
   ]
  }
 ],
 "metadata": {
  "kernelspec": {
   "display_name": "Python 3 (ipykernel)",
   "language": "python",
   "name": "python3"
  },
  "language_info": {
   "codemirror_mode": {
    "name": "ipython",
    "version": 3
   },
   "file_extension": ".py",
   "mimetype": "text/x-python",
   "name": "python",
   "nbconvert_exporter": "python",
   "pygments_lexer": "ipython3",
   "version": "3.9.13"
  }
 },
 "nbformat": 4,
 "nbformat_minor": 5
}
